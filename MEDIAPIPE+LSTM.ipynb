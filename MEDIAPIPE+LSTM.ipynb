{
  "cells": [
    {
      "cell_type": "code",
      "execution_count": null,
      "metadata": {
        "id": "xlRIGzPhF3lN"
      },
      "outputs": [],
      "source": [
        "# Install the required libraries.\n",
        "!pip install tensorflow opencv-contrib-python moviepy pydot mediapipe"
      ]
    },
    {
      "cell_type": "code",
      "execution_count": null,
      "metadata": {
        "id": "As4d1hPoGG44"
      },
      "outputs": [],
      "source": [
        "# Import the required libraries.\n",
        "import os\n",
        "import cv2\n",
        "from google.colab.patches import cv2_imshow\n",
        "import math\n",
        "import random\n",
        "import numpy as np\n",
        "import datetime as dt\n",
        "import tensorflow as tf\n",
        "from collections import deque\n",
        "import matplotlib.pyplot as plt\n",
        "%matplotlib inline\n",
        "from sklearn.model_selection import train_test_split\n",
        "from tensorflow.keras.layers import *\n",
        "from tensorflow.keras.models import Sequential\n",
        "from tensorflow.keras.utils import to_categorical\n",
        "from tensorflow.keras.callbacks import EarlyStopping\n",
        "from tensorflow.keras.utils import plot_model"
      ]
    },
    {
      "cell_type": "code",
      "execution_count": null,
      "metadata": {
        "id": "ZXnnXMdXGnuc"
      },
      "outputs": [],
      "source": [
        "seed_constant = 27\n",
        "np.random.seed(seed_constant)\n",
        "random.seed(seed_constant)\n",
        "tf.random.set_seed(seed_constant)"
      ]
    },
    {
      "cell_type": "code",
      "execution_count": null,
      "metadata": {
        "colab": {
          "base_uri": "https://localhost:8080/"
        },
        "id": "cOXC607mGo_H",
        "outputId": "9068154c-a906-4024-f9a3-9ad5b7d49030"
      },
      "outputs": [
        {
          "output_type": "stream",
          "name": "stdout",
          "text": [
            "Mounted at /content/drive\n"
          ]
        }
      ],
      "source": [
        "from google.colab import drive\n",
        "drive.mount('/content/drive')"
      ]
    },
    {
      "cell_type": "code",
      "execution_count": null,
      "metadata": {
        "id": "xqUkZ1DiIjie"
      },
      "outputs": [],
      "source": [
        "# Specify the height and width to which each video frame will be resized in our dataset.\n",
        "IMAGE_HEIGHT , IMAGE_WIDTH = 128, 128\n",
        "\n",
        "# Specify the number of frames of a video that will be fed to the model as one sequence.\n",
        "SEQUENCE_LENGTH = 50\n",
        "\n",
        "# Specify the directory containing the UCF50 dataset. \n",
        "DATASET_DIR = \"/content/drive/MyDrive/UCF50\"\n",
        "\n",
        "# Specify the list containing the names of the classes used for training. Feel free to choose any set of classes.\n",
        "CLASSES_LIST = [\"PushUps\", \"TennisSwing\", \"BaseballPitch\", \"Biking\", \"PlayingViolin\", \"Lunges\", \"JumpingJack\", \"PullUps\", \"GolfSwing\", \"SoccerJuggling\"]\n"
      ]
    },
    {
      "cell_type": "code",
      "execution_count": null,
      "metadata": {
        "id": "QwjaS2Umo0pC"
      },
      "outputs": [],
      "source": [
        "#creat dataset output path \n",
        "\n",
        "#path to stock landmarks\n",
        "DATA_RESULTS = \"/content/drive/MyDrive/landmarks_new\""
      ]
    },
    {
      "cell_type": "code",
      "execution_count": null,
      "metadata": {
        "id": "-CzuUhv5Npz7"
      },
      "outputs": [],
      "source": [
        "import mediapipe as mp\n",
        "mp_pose = mp.solutions.pose\n",
        "mp_drawing = mp.solutions.drawing_utils \n",
        "mp_drawing_styles = mp.solutions.drawing_styles"
      ]
    },
    {
      "cell_type": "code",
      "execution_count": null,
      "metadata": {
        "id": "njaXMmtyQ5gn"
      },
      "outputs": [],
      "source": [
        "def landmarks_extraction(video_path):\n",
        "    '''\n",
        "    This function will extract the required frames from a video after resizing and normalizing them.\n",
        "    Args:\n",
        "        video_path: The path of the video in the disk, whose frames are to be extracted.\n",
        "    Returns:\n",
        "        frames_list: A list containing the resized and normalized frames of the video.\n",
        "    '''\n",
        "\n",
        "    # Declare a list to store video landmarks.\n",
        "    landMarks = []\n",
        "    \n",
        "    # Read the Video File using the VideoCapture object.\n",
        "    video_reader = cv2.VideoCapture(video_path)\n",
        "\n",
        "    # Get the total number of frames in the video.\n",
        "    video_frames_count = int(video_reader.get(cv2.CAP_PROP_FRAME_COUNT))\n",
        "    #print(\"nombre des frames\",video_frames_count)\n",
        "\n",
        "    # Calculate the the interval after which frames will be added to the list.\n",
        "    skip_frames_window = 1\n",
        "    \n",
        "    # start frame\n",
        "    index = int((video_frames_count - 50 ) / 2)\n",
        "\n",
        "# Run MediaPipe Pose and draw pose landmarks.\n",
        "    with mp_pose.Pose(static_image_mode=True, min_detection_confidence=0.5, model_complexity=2) as pose:\n",
        "      \n",
        "    \n",
        "    # Iterate through the Video Frames.\n",
        "        for frame_counter in range(index , index + 50):\n",
        "      \n",
        "          #print(frame_counter)\n",
        "          # Set the current frame position of the video.\n",
        "          video_reader.set(cv2.CAP_PROP_POS_FRAMES, frame_counter*skip_frames_window)\n",
        "        \n",
        "          # Reading the frame from the video. \n",
        "          success, frame = video_reader.read()\n",
        "        \n",
        "       \n",
        "          # Check if Video frame is not successfully read then break the loop\n",
        "          if not success:\n",
        "            break\n",
        "          results = pose.process(cv2.cvtColor(frame, cv2.COLOR_BGR2RGB))\n",
        "          resized_frame = cv2.resize(frame, (IMAGE_HEIGHT, IMAGE_WIDTH))    \n",
        "        \n",
        "          annotated_image= resized_frame.copy()\n",
        "          test = []\n",
        "          if results.pose_landmarks !=None:\n",
        "            mp_drawing.draw_landmarks(annotated_image, results.pose_landmarks, mp_pose.POSE_CONNECTIONS, landmark_drawing_spec=mp_drawing_styles.get_default_pose_landmarks_style())\n",
        "            for lm in results.pose_landmarks.landmark:\n",
        "              test.append((lm.x, lm.y))  \n",
        "          else :\n",
        "            for lm in range(33):\n",
        "              test.append((0, 0)) \n",
        "\n",
        "          landMarks.append(np.array(test).flatten())\n",
        "        return landMarks\n",
        "     "
      ]
    },
    {
      "cell_type": "code",
      "execution_count": null,
      "metadata": {
        "id": "ILZbVa-mUk6p"
      },
      "outputs": [],
      "source": [
        "def create_dataset():\n",
        "    '''\n",
        "    This function will extract the data of the selected classes and create the required dataset.\n",
        "    Returns:\n",
        "        features:          A list containing the extracted frames of the videos.\n",
        "        labels:            A list containing the indexes of the classes associated with the videos.\n",
        "        video_files_paths: A list containing the paths of the videos in the disk.\n",
        "    '''\n",
        "\n",
        "    # Declared Empty Lists to store the features, labels and video file path values.\n",
        "    features = []\n",
        "    labels = []\n",
        "    video_files_paths = []\n",
        "    \n",
        "    # Iterating through all the classes mentioned in the classes list\n",
        "    for class_index, class_name in enumerate(CLASSES_LIST):\n",
        "        \n",
        "        # Display the name of the class whose data is being extracted.\n",
        "        print(f'Extracting Data of Class: {class_name}')\n",
        "        \n",
        "        # Get the list of video files present in the specific class name directory.\n",
        "        files_list = os.listdir(os.path.join(DATASET_DIR, class_name))\n",
        "        \n",
        "        # Iterate through all the files present in the files list.\n",
        "        for file_name in files_list:\n",
        "            \n",
        "            # Get the complete video path.\n",
        "            video_file_path = os.path.join(DATASET_DIR, class_name, file_name)\n",
        "            #print(video_file_path)\n",
        "           \n",
        "            \n",
        "            \n",
        "            # Extract the landmarks of the video file.\n",
        "            landMarks = landmarks_extraction(video_file_path)\n",
        "            \n",
        "             # Append the data to their repective lists.\n",
        "            if len(landMarks) == 50 : \n",
        "              \n",
        "              ### creat location to stock results \n",
        "            #  os.makedirs(os.path.join(DATA_RESULTS, class_name, str(file_name)))\n",
        "              ###save data\n",
        "            #  npy_path = os.path.join(DATA_RESULTS, class_name, file_name, str(file_name))\n",
        "            #  keypoints = np.asarray(landMarks)\n",
        "            #  np.save(npy_path , keypoints)\n",
        "            #  np.save(npy_path, keypoints)\n",
        "        \n",
        "              features.append(landMarks)\n",
        "              labels.append(class_index)\n",
        "              video_files_paths.append(video_file_path)\n",
        "              #print(\"feature\",features)\n",
        "              #print(\"taille features\", len(features))\n",
        "            else:\n",
        "              break\n",
        "     # Converting the list to numpy arrays\n",
        "    array_features = np.asarray(features)\n",
        "    labels = np.array(labels)  \n",
        "    return array_features, labels"
      ]
    },
    {
      "cell_type": "code",
      "execution_count": null,
      "metadata": {
        "id": "Nf_SM3EAVFI_"
      },
      "outputs": [],
      "source": [
        "# Create the dataset.\n",
        "features, labels = create_dataset()"
      ]
    },
    {
      "cell_type": "code",
      "execution_count": null,
      "metadata": {
        "id": "fZQzHgmoHGD5"
      },
      "outputs": [],
      "source": [
        "# Using Keras's to_categorical method to convert labels into one-hot-encoded vectors\n",
        "one_hot_encoded_labels = to_categorical(labels)\n",
        "npy_path = os.path.join(DATA_RESULTS , \"label_data\")\n",
        "np.save(npy_path , one_hot_encoded_labels)\n",
        "#print(one_hot_encoded_labels[6])\n"
      ]
    },
    {
      "cell_type": "code",
      "execution_count": null,
      "metadata": {
        "id": "xgsv1xWL9iFV"
      },
      "outputs": [],
      "source": [
        "#load landmarks and labels saved before \n",
        "#features_landmarks, labels = [], []\n",
        "#labels = np.load(os.path.join(DATA_RESULTS,\"label_data.npy\"))\n",
        "#for class_name in CLASSES_LIST:\n",
        " # files_list = os.listdir(os.path.join(DATA_RESULTS, class_name))\n",
        "  #for file_name in files_list:\n",
        "   # res = np.load(os.path.join(DATA_RESULTS, class_name, file_name, \"{}.npy\".format(file_name)))\n",
        "   # features_landmarks.append(res)\n",
        "   \n",
        "  "
      ]
    },
    {
      "cell_type": "code",
      "execution_count": null,
      "metadata": {
        "id": "VHC7j0IcxRtB"
      },
      "outputs": [],
      "source": [
        "features_landmarks = np.asarray(features_landmarks)\n",
        "labels = np.array(labels)  \n",
        "\n"
      ]
    },
    {
      "cell_type": "code",
      "execution_count": null,
      "metadata": {
        "id": "YQJ1ZFqMzvoA"
      },
      "outputs": [],
      "source": [
        "# Split the Data into Train ( 75% ) and Test Set ( 25% ).\n",
        "#features_train, features_test, labels_train, labels_test = train_test_split(features, one_hot_encoded_labels,\n",
        "                                                                            #test_size = 0.25, shuffle = True,\n",
        "                                                                            #random_state = seed_constant)\n",
        "features_train, features_test, labels_train, labels_test = train_test_split(features_landmarks, labels,\n",
        "                                                                            test_size = 0.25, shuffle = True,\n",
        "                                                                            random_state = seed_constant)"
      ]
    },
    {
      "cell_type": "markdown",
      "source": [
        "# ***BUILD MODEL***"
      ],
      "metadata": {
        "id": "PRh14P0fpELi"
      }
    },
    {
      "cell_type": "code",
      "execution_count": null,
      "metadata": {
        "id": "SLy3so1H1pOa"
      },
      "outputs": [],
      "source": [
        "#####  ARCHITECTURE\n",
        "model = Sequential()\n",
        "model.add(LSTM(32, return_sequences=True, activation='tanh', input_shape=(50, 66))))\n",
        "model.add(LSTM(64, return_sequences=False, activation='tanh'))\n",
        "model.add(Dense(32, activation='relu'))\n",
        "model.add(Dense(len(CLASSES_LIST), activation='softmax'))"
      ]
    },
    {
      "cell_type": "code",
      "execution_count": null,
      "metadata": {
        "colab": {
          "base_uri": "https://localhost:8080/"
        },
        "id": "B37un9dBw5_c",
        "outputId": "3e453237-b378-401e-9cb5-7a7468ab07f9"
      },
      "outputs": [
        {
          "output_type": "stream",
          "name": "stdout",
          "text": [
            "Model: \"sequential\"\n",
            "_________________________________________________________________\n",
            " Layer (type)                Output Shape              Param #   \n",
            "=================================================================\n",
            " lstm (LSTM)                 (None, 50, 128)           99840     \n",
            "                                                                 \n",
            " dropout (Dropout)           (None, 50, 128)           0         \n",
            "                                                                 \n",
            " lstm_1 (LSTM)               (None, 256)               394240    \n",
            "                                                                 \n",
            " dense (Dense)               (None, 256)               65792     \n",
            "                                                                 \n",
            " dense_1 (Dense)             (None, 512)               131584    \n",
            "                                                                 \n",
            " dense_2 (Dense)             (None, 256)               131328    \n",
            "                                                                 \n",
            " dense_3 (Dense)             (None, 10)                2570      \n",
            "                                                                 \n",
            "=================================================================\n",
            "Total params: 825,354\n",
            "Trainable params: 825,354\n",
            "Non-trainable params: 0\n",
            "_________________________________________________________________\n"
          ]
        }
      ],
      "source": [
        "model.summary()"
      ]
    },
    {
      "cell_type": "markdown",
      "metadata": {
        "id": "8Hpf5D_xUHRD"
      },
      "source": [
        "# **TRANNING**"
      ]
    },
    {
      "cell_type": "code",
      "execution_count": null,
      "metadata": {
        "colab": {
          "base_uri": "https://localhost:8080/"
        },
        "id": "c1ipkY3C4Xj5",
        "outputId": "7f74fd11-0a01-4deb-9aa4-7c4514d5c36f"
      },
      "outputs": [
        {
          "output_type": "stream",
          "name": "stdout",
          "text": [
            "Epoch 1/200\n",
            "22/22 [==============================] - 10s 285ms/step - loss: 2.1443 - accuracy: 0.2394 - val_loss: 1.9418 - val_accuracy: 0.3158\n",
            "Epoch 2/200\n",
            "22/22 [==============================] - 5s 243ms/step - loss: 1.7228 - accuracy: 0.3965 - val_loss: 1.5090 - val_accuracy: 0.4795\n",
            "Epoch 3/200\n",
            "22/22 [==============================] - 5s 243ms/step - loss: 1.6294 - accuracy: 0.4156 - val_loss: 1.9873 - val_accuracy: 0.3041\n",
            "Epoch 4/200\n",
            "22/22 [==============================] - 5s 242ms/step - loss: 1.5035 - accuracy: 0.5037 - val_loss: 1.6088 - val_accuracy: 0.4152\n",
            "Epoch 5/200\n",
            "22/22 [==============================] - 5s 241ms/step - loss: 1.4187 - accuracy: 0.5051 - val_loss: 1.4234 - val_accuracy: 0.4971\n",
            "Epoch 6/200\n",
            "22/22 [==============================] - 5s 243ms/step - loss: 1.3853 - accuracy: 0.5213 - val_loss: 1.5762 - val_accuracy: 0.4678\n",
            "Epoch 7/200\n",
            "22/22 [==============================] - 5s 243ms/step - loss: 1.3762 - accuracy: 0.5051 - val_loss: 1.3833 - val_accuracy: 0.4912\n",
            "Epoch 8/200\n",
            "22/22 [==============================] - 5s 242ms/step - loss: 1.2643 - accuracy: 0.5521 - val_loss: 1.2418 - val_accuracy: 0.5439\n",
            "Epoch 9/200\n",
            "22/22 [==============================] - 5s 244ms/step - loss: 1.2790 - accuracy: 0.5595 - val_loss: 1.2830 - val_accuracy: 0.5497\n",
            "Epoch 10/200\n",
            "22/22 [==============================] - 6s 275ms/step - loss: 1.3431 - accuracy: 0.5272 - val_loss: 1.3392 - val_accuracy: 0.5439\n",
            "Epoch 11/200\n",
            "22/22 [==============================] - 5s 244ms/step - loss: 1.3263 - accuracy: 0.5756 - val_loss: 1.4058 - val_accuracy: 0.5263\n",
            "Epoch 12/200\n",
            "22/22 [==============================] - 5s 244ms/step - loss: 1.1813 - accuracy: 0.6079 - val_loss: 1.2014 - val_accuracy: 0.5789\n",
            "Epoch 13/200\n",
            "22/22 [==============================] - 5s 245ms/step - loss: 1.1251 - accuracy: 0.6109 - val_loss: 1.1551 - val_accuracy: 0.6316\n",
            "Epoch 14/200\n",
            "22/22 [==============================] - 5s 242ms/step - loss: 1.1052 - accuracy: 0.6300 - val_loss: 1.3494 - val_accuracy: 0.5380\n",
            "Epoch 15/200\n",
            "22/22 [==============================] - 5s 242ms/step - loss: 1.1161 - accuracy: 0.6182 - val_loss: 1.1481 - val_accuracy: 0.5556\n",
            "Epoch 16/200\n",
            "22/22 [==============================] - 5s 245ms/step - loss: 1.0537 - accuracy: 0.6432 - val_loss: 1.0535 - val_accuracy: 0.6491\n",
            "Epoch 17/200\n",
            "22/22 [==============================] - 5s 243ms/step - loss: 0.9339 - accuracy: 0.6828 - val_loss: 1.2366 - val_accuracy: 0.5848\n",
            "Epoch 18/200\n",
            "22/22 [==============================] - 5s 243ms/step - loss: 1.1173 - accuracy: 0.6079 - val_loss: 1.0188 - val_accuracy: 0.6257\n",
            "Epoch 19/200\n",
            "22/22 [==============================] - 5s 243ms/step - loss: 0.9367 - accuracy: 0.6696 - val_loss: 1.0307 - val_accuracy: 0.6667\n",
            "Epoch 20/200\n",
            "22/22 [==============================] - 5s 244ms/step - loss: 0.9558 - accuracy: 0.6579 - val_loss: 1.2105 - val_accuracy: 0.5848\n",
            "Epoch 21/200\n",
            "22/22 [==============================] - 5s 243ms/step - loss: 0.9007 - accuracy: 0.6696 - val_loss: 1.1433 - val_accuracy: 0.6257\n",
            "Epoch 22/200\n",
            "22/22 [==============================] - 5s 244ms/step - loss: 1.0353 - accuracy: 0.6667 - val_loss: 1.0336 - val_accuracy: 0.6959\n",
            "Epoch 23/200\n",
            "22/22 [==============================] - 5s 242ms/step - loss: 0.8754 - accuracy: 0.7195 - val_loss: 0.9365 - val_accuracy: 0.6901\n",
            "Epoch 24/200\n",
            "22/22 [==============================] - 5s 246ms/step - loss: 0.8567 - accuracy: 0.6975 - val_loss: 0.9261 - val_accuracy: 0.6901\n",
            "Epoch 25/200\n",
            "22/22 [==============================] - 5s 243ms/step - loss: 0.8281 - accuracy: 0.6960 - val_loss: 1.0596 - val_accuracy: 0.6257\n",
            "Epoch 26/200\n",
            "22/22 [==============================] - 5s 246ms/step - loss: 0.8352 - accuracy: 0.7004 - val_loss: 1.2477 - val_accuracy: 0.5906\n",
            "Epoch 27/200\n",
            "22/22 [==============================] - 5s 244ms/step - loss: 0.8830 - accuracy: 0.6931 - val_loss: 1.1483 - val_accuracy: 0.6491\n",
            "Epoch 28/200\n",
            "22/22 [==============================] - 5s 243ms/step - loss: 0.7599 - accuracy: 0.7283 - val_loss: 1.0774 - val_accuracy: 0.6374\n",
            "Epoch 29/200\n",
            "22/22 [==============================] - 5s 248ms/step - loss: 0.7730 - accuracy: 0.7254 - val_loss: 1.1068 - val_accuracy: 0.6491\n",
            "Epoch 30/200\n",
            "22/22 [==============================] - 5s 246ms/step - loss: 0.8471 - accuracy: 0.7063 - val_loss: 1.0040 - val_accuracy: 0.6608\n",
            "Epoch 31/200\n",
            "22/22 [==============================] - 6s 292ms/step - loss: 0.7578 - accuracy: 0.7195 - val_loss: 1.1347 - val_accuracy: 0.6023\n",
            "Epoch 32/200\n",
            "22/22 [==============================] - 5s 245ms/step - loss: 0.7241 - accuracy: 0.7372 - val_loss: 1.0882 - val_accuracy: 0.7018\n",
            "Epoch 33/200\n",
            "22/22 [==============================] - 5s 245ms/step - loss: 0.8394 - accuracy: 0.7093 - val_loss: 1.1712 - val_accuracy: 0.5906\n",
            "Epoch 34/200\n",
            "22/22 [==============================] - 5s 247ms/step - loss: 0.7734 - accuracy: 0.7416 - val_loss: 1.3778 - val_accuracy: 0.5673\n",
            "Epoch 35/200\n",
            "22/22 [==============================] - 5s 248ms/step - loss: 0.8213 - accuracy: 0.7048 - val_loss: 1.0952 - val_accuracy: 0.6433\n",
            "Epoch 36/200\n",
            "22/22 [==============================] - 5s 243ms/step - loss: 0.7468 - accuracy: 0.7489 - val_loss: 1.0808 - val_accuracy: 0.6257\n",
            "Epoch 37/200\n",
            "22/22 [==============================] - 5s 241ms/step - loss: 0.6370 - accuracy: 0.7709 - val_loss: 1.2646 - val_accuracy: 0.6374\n",
            "Epoch 38/200\n",
            "22/22 [==============================] - 5s 242ms/step - loss: 0.7018 - accuracy: 0.7680 - val_loss: 0.9779 - val_accuracy: 0.7076\n",
            "Epoch 39/200\n",
            "22/22 [==============================] - 5s 242ms/step - loss: 0.8814 - accuracy: 0.6990 - val_loss: 1.1107 - val_accuracy: 0.6199\n",
            "Epoch 40/200\n",
            "22/22 [==============================] - 5s 242ms/step - loss: 0.6948 - accuracy: 0.7548 - val_loss: 1.0085 - val_accuracy: 0.7018\n",
            "Epoch 41/200\n",
            "22/22 [==============================] - 5s 246ms/step - loss: 0.6039 - accuracy: 0.7827 - val_loss: 0.9905 - val_accuracy: 0.6667\n",
            "Epoch 42/200\n",
            "22/22 [==============================] - 5s 243ms/step - loss: 0.6508 - accuracy: 0.7753 - val_loss: 1.0756 - val_accuracy: 0.6667\n",
            "Epoch 43/200\n",
            "22/22 [==============================] - 5s 245ms/step - loss: 0.7204 - accuracy: 0.7474 - val_loss: 1.1330 - val_accuracy: 0.6784\n",
            "Epoch 44/200\n",
            "22/22 [==============================] - 5s 244ms/step - loss: 0.6093 - accuracy: 0.7974 - val_loss: 0.9531 - val_accuracy: 0.7018\n",
            "Epoch 45/200\n",
            "22/22 [==============================] - 5s 246ms/step - loss: 0.5798 - accuracy: 0.8150 - val_loss: 1.1217 - val_accuracy: 0.6784\n",
            "Epoch 46/200\n",
            "22/22 [==============================] - 5s 244ms/step - loss: 0.6348 - accuracy: 0.7724 - val_loss: 1.1243 - val_accuracy: 0.6667\n",
            "Epoch 47/200\n",
            "22/22 [==============================] - 5s 246ms/step - loss: 0.6290 - accuracy: 0.7783 - val_loss: 0.9224 - val_accuracy: 0.7076\n",
            "Epoch 48/200\n",
            "22/22 [==============================] - 5s 244ms/step - loss: 0.6397 - accuracy: 0.7841 - val_loss: 1.0837 - val_accuracy: 0.6550\n",
            "Epoch 49/200\n",
            "22/22 [==============================] - 5s 244ms/step - loss: 0.5346 - accuracy: 0.8106 - val_loss: 1.1675 - val_accuracy: 0.6667\n",
            "Epoch 50/200\n",
            "22/22 [==============================] - 5s 246ms/step - loss: 0.6502 - accuracy: 0.7606 - val_loss: 1.0287 - val_accuracy: 0.7076\n",
            "Epoch 51/200\n",
            "22/22 [==============================] - 6s 254ms/step - loss: 0.5681 - accuracy: 0.7915 - val_loss: 1.1472 - val_accuracy: 0.6842\n",
            "Epoch 52/200\n",
            "22/22 [==============================] - 5s 245ms/step - loss: 0.5196 - accuracy: 0.8106 - val_loss: 1.1884 - val_accuracy: 0.6842\n",
            "Epoch 53/200\n",
            "22/22 [==============================] - 5s 242ms/step - loss: 0.5290 - accuracy: 0.8032 - val_loss: 1.1684 - val_accuracy: 0.6725\n",
            "Epoch 54/200\n",
            "22/22 [==============================] - 5s 243ms/step - loss: 0.6244 - accuracy: 0.7783 - val_loss: 1.1620 - val_accuracy: 0.6491\n",
            "Epoch 55/200\n",
            "22/22 [==============================] - 5s 243ms/step - loss: 0.4807 - accuracy: 0.8326 - val_loss: 1.1040 - val_accuracy: 0.6842\n",
            "Epoch 56/200\n",
            "22/22 [==============================] - 5s 243ms/step - loss: 0.3951 - accuracy: 0.8737 - val_loss: 1.1562 - val_accuracy: 0.6959\n",
            "Epoch 57/200\n",
            "22/22 [==============================] - 5s 243ms/step - loss: 0.4909 - accuracy: 0.8238 - val_loss: 1.3316 - val_accuracy: 0.5965\n",
            "Epoch 58/200\n",
            "22/22 [==============================] - 5s 242ms/step - loss: 0.5623 - accuracy: 0.7944 - val_loss: 1.0658 - val_accuracy: 0.6959\n",
            "Epoch 59/200\n",
            "22/22 [==============================] - 5s 242ms/step - loss: 0.4821 - accuracy: 0.8238 - val_loss: 1.1100 - val_accuracy: 0.6725\n",
            "Epoch 60/200\n",
            "22/22 [==============================] - 5s 243ms/step - loss: 0.4804 - accuracy: 0.8341 - val_loss: 1.1311 - val_accuracy: 0.7076\n",
            "Epoch 61/200\n",
            "22/22 [==============================] - 5s 241ms/step - loss: 0.5143 - accuracy: 0.8282 - val_loss: 1.2606 - val_accuracy: 0.7251\n",
            "Epoch 62/200\n",
            "22/22 [==============================] - 5s 243ms/step - loss: 0.6695 - accuracy: 0.7841 - val_loss: 1.2216 - val_accuracy: 0.6316\n",
            "Epoch 63/200\n",
            "22/22 [==============================] - 5s 243ms/step - loss: 0.5669 - accuracy: 0.7944 - val_loss: 0.9153 - val_accuracy: 0.7310\n",
            "Epoch 64/200\n",
            "22/22 [==============================] - 5s 245ms/step - loss: 0.4232 - accuracy: 0.8576 - val_loss: 0.9626 - val_accuracy: 0.7076\n",
            "Epoch 65/200\n",
            "22/22 [==============================] - 5s 244ms/step - loss: 0.3734 - accuracy: 0.8634 - val_loss: 1.0198 - val_accuracy: 0.7251\n",
            "Epoch 66/200\n",
            "22/22 [==============================] - 5s 242ms/step - loss: 0.3334 - accuracy: 0.8884 - val_loss: 1.3391 - val_accuracy: 0.6725\n",
            "Epoch 67/200\n",
            "22/22 [==============================] - 5s 243ms/step - loss: 0.5193 - accuracy: 0.8297 - val_loss: 1.1350 - val_accuracy: 0.6725\n",
            "Epoch 68/200\n",
            "22/22 [==============================] - 5s 243ms/step - loss: 0.4180 - accuracy: 0.8414 - val_loss: 1.2425 - val_accuracy: 0.6667\n",
            "Epoch 69/200\n",
            "22/22 [==============================] - 5s 242ms/step - loss: 0.3798 - accuracy: 0.8693 - val_loss: 1.1752 - val_accuracy: 0.6725\n",
            "Epoch 70/200\n",
            "22/22 [==============================] - 5s 241ms/step - loss: 0.3681 - accuracy: 0.8664 - val_loss: 1.3279 - val_accuracy: 0.6901\n",
            "Epoch 71/200\n",
            "22/22 [==============================] - 6s 251ms/step - loss: 0.3582 - accuracy: 0.8678 - val_loss: 1.3653 - val_accuracy: 0.6667\n",
            "Epoch 72/200\n",
            "22/22 [==============================] - 5s 242ms/step - loss: 0.3138 - accuracy: 0.8884 - val_loss: 1.2122 - val_accuracy: 0.6667\n",
            "Epoch 73/200\n",
            "22/22 [==============================] - 5s 242ms/step - loss: 0.3267 - accuracy: 0.8796 - val_loss: 1.1801 - val_accuracy: 0.7193\n",
            "Epoch 74/200\n",
            "22/22 [==============================] - 5s 242ms/step - loss: 0.2901 - accuracy: 0.9001 - val_loss: 1.2142 - val_accuracy: 0.7251\n",
            "Epoch 75/200\n",
            "22/22 [==============================] - 5s 242ms/step - loss: 0.3390 - accuracy: 0.8899 - val_loss: 1.1711 - val_accuracy: 0.6959\n",
            "Epoch 76/200\n",
            "22/22 [==============================] - 5s 241ms/step - loss: 0.3292 - accuracy: 0.8943 - val_loss: 1.4704 - val_accuracy: 0.6316\n",
            "Epoch 77/200\n",
            "22/22 [==============================] - 5s 242ms/step - loss: 0.4459 - accuracy: 0.8605 - val_loss: 1.2292 - val_accuracy: 0.6842\n",
            "Epoch 78/200\n",
            "22/22 [==============================] - 5s 241ms/step - loss: 0.5500 - accuracy: 0.8253 - val_loss: 1.2661 - val_accuracy: 0.6374\n",
            "Epoch 79/200\n",
            "22/22 [==============================] - 5s 244ms/step - loss: 0.3849 - accuracy: 0.8634 - val_loss: 1.1979 - val_accuracy: 0.6842\n",
            "Epoch 80/200\n",
            "22/22 [==============================] - 5s 243ms/step - loss: 0.2991 - accuracy: 0.8957 - val_loss: 1.1503 - val_accuracy: 0.7193\n",
            "Epoch 81/200\n",
            "22/22 [==============================] - 5s 244ms/step - loss: 0.2770 - accuracy: 0.8943 - val_loss: 1.0325 - val_accuracy: 0.7368\n",
            "Epoch 82/200\n",
            "22/22 [==============================] - 5s 244ms/step - loss: 0.3152 - accuracy: 0.8811 - val_loss: 1.3830 - val_accuracy: 0.6901\n",
            "Epoch 83/200\n",
            "22/22 [==============================] - 5s 244ms/step - loss: 0.5059 - accuracy: 0.8253 - val_loss: 1.2130 - val_accuracy: 0.6725\n",
            "Epoch 84/200\n",
            "22/22 [==============================] - 5s 242ms/step - loss: 0.4309 - accuracy: 0.8532 - val_loss: 1.5307 - val_accuracy: 0.6608\n",
            "Epoch 85/200\n",
            "22/22 [==============================] - 5s 244ms/step - loss: 0.4028 - accuracy: 0.8532 - val_loss: 1.3437 - val_accuracy: 0.6667\n",
            "Epoch 86/200\n",
            "22/22 [==============================] - 5s 243ms/step - loss: 0.3889 - accuracy: 0.8532 - val_loss: 1.1453 - val_accuracy: 0.7135\n",
            "Epoch 87/200\n",
            "22/22 [==============================] - 5s 243ms/step - loss: 0.2496 - accuracy: 0.9163 - val_loss: 1.3068 - val_accuracy: 0.6550\n",
            "Epoch 88/200\n",
            "22/22 [==============================] - 5s 243ms/step - loss: 0.4644 - accuracy: 0.8473 - val_loss: 1.2877 - val_accuracy: 0.6725\n",
            "Epoch 89/200\n",
            "22/22 [==============================] - 5s 242ms/step - loss: 0.6215 - accuracy: 0.7724 - val_loss: 1.3413 - val_accuracy: 0.6199\n",
            "Epoch 90/200\n",
            "22/22 [==============================] - 5s 243ms/step - loss: 0.4098 - accuracy: 0.8561 - val_loss: 1.0835 - val_accuracy: 0.6725\n",
            "Epoch 91/200\n",
            "22/22 [==============================] - 5s 243ms/step - loss: 0.3193 - accuracy: 0.8825 - val_loss: 1.2322 - val_accuracy: 0.6725\n",
            "Epoch 92/200\n",
            "22/22 [==============================] - 5s 243ms/step - loss: 0.2858 - accuracy: 0.9104 - val_loss: 1.1628 - val_accuracy: 0.7076\n",
            "Epoch 93/200\n",
            "22/22 [==============================] - 5s 242ms/step - loss: 0.2247 - accuracy: 0.9192 - val_loss: 1.3242 - val_accuracy: 0.7018\n",
            "Epoch 94/200\n",
            "22/22 [==============================] - 5s 243ms/step - loss: 0.2029 - accuracy: 0.9266 - val_loss: 1.2393 - val_accuracy: 0.7193\n",
            "Epoch 95/200\n",
            "22/22 [==============================] - 5s 242ms/step - loss: 0.1816 - accuracy: 0.9369 - val_loss: 1.3760 - val_accuracy: 0.7310\n",
            "Epoch 96/200\n",
            "22/22 [==============================] - 5s 240ms/step - loss: 0.1711 - accuracy: 0.9413 - val_loss: 1.4966 - val_accuracy: 0.7076\n",
            "Epoch 97/200\n",
            "22/22 [==============================] - 5s 243ms/step - loss: 0.1852 - accuracy: 0.9354 - val_loss: 1.5153 - val_accuracy: 0.6842\n",
            "Epoch 98/200\n",
            "22/22 [==============================] - 5s 240ms/step - loss: 0.2393 - accuracy: 0.9192 - val_loss: 1.6379 - val_accuracy: 0.6667\n",
            "Epoch 99/200\n",
            "22/22 [==============================] - 5s 243ms/step - loss: 0.3012 - accuracy: 0.8928 - val_loss: 1.4280 - val_accuracy: 0.7135\n",
            "Epoch 100/200\n",
            "22/22 [==============================] - 5s 241ms/step - loss: 0.2926 - accuracy: 0.8928 - val_loss: 1.5312 - val_accuracy: 0.6550\n",
            "Epoch 101/200\n",
            "22/22 [==============================] - 5s 241ms/step - loss: 0.5400 - accuracy: 0.8076 - val_loss: 1.3422 - val_accuracy: 0.6842\n",
            "Epoch 102/200\n",
            "22/22 [==============================] - 5s 241ms/step - loss: 0.3410 - accuracy: 0.8825 - val_loss: 1.1312 - val_accuracy: 0.7193\n",
            "Epoch 103/200\n",
            "22/22 [==============================] - 5s 242ms/step - loss: 0.2696 - accuracy: 0.9075 - val_loss: 1.2635 - val_accuracy: 0.6901\n",
            "Epoch 104/200\n",
            "22/22 [==============================] - 5s 242ms/step - loss: 0.1871 - accuracy: 0.9354 - val_loss: 1.4780 - val_accuracy: 0.7135\n",
            "Epoch 105/200\n",
            "22/22 [==============================] - 5s 242ms/step - loss: 0.1626 - accuracy: 0.9442 - val_loss: 1.5678 - val_accuracy: 0.7076\n",
            "Epoch 106/200\n",
            "22/22 [==============================] - 5s 243ms/step - loss: 0.1959 - accuracy: 0.9236 - val_loss: 1.7472 - val_accuracy: 0.6608\n",
            "Epoch 107/200\n",
            "22/22 [==============================] - 5s 244ms/step - loss: 0.2810 - accuracy: 0.8957 - val_loss: 1.4911 - val_accuracy: 0.7076\n",
            "Epoch 108/200\n",
            "22/22 [==============================] - 5s 245ms/step - loss: 0.2489 - accuracy: 0.9163 - val_loss: 1.4102 - val_accuracy: 0.7018\n",
            "Epoch 109/200\n",
            "22/22 [==============================] - 5s 243ms/step - loss: 0.3297 - accuracy: 0.8693 - val_loss: 1.4106 - val_accuracy: 0.7018\n",
            "Epoch 110/200\n",
            "22/22 [==============================] - 5s 244ms/step - loss: 0.2698 - accuracy: 0.9104 - val_loss: 1.5774 - val_accuracy: 0.6842\n",
            "Epoch 111/200\n",
            "22/22 [==============================] - 5s 243ms/step - loss: 0.2313 - accuracy: 0.9251 - val_loss: 1.4642 - val_accuracy: 0.6901\n",
            "Epoch 112/200\n",
            "22/22 [==============================] - 5s 242ms/step - loss: 0.1822 - accuracy: 0.9383 - val_loss: 1.5695 - val_accuracy: 0.6959\n",
            "Epoch 113/200\n",
            "22/22 [==============================] - 5s 243ms/step - loss: 0.1782 - accuracy: 0.9471 - val_loss: 1.3430 - val_accuracy: 0.6901\n",
            "Epoch 114/200\n",
            "22/22 [==============================] - 5s 241ms/step - loss: 0.2250 - accuracy: 0.9163 - val_loss: 1.4932 - val_accuracy: 0.7018\n",
            "Epoch 115/200\n",
            "22/22 [==============================] - 5s 242ms/step - loss: 0.2091 - accuracy: 0.9251 - val_loss: 1.5754 - val_accuracy: 0.6725\n",
            "Epoch 116/200\n",
            "22/22 [==============================] - 5s 242ms/step - loss: 0.1603 - accuracy: 0.9383 - val_loss: 1.3721 - val_accuracy: 0.7427\n",
            "Epoch 117/200\n",
            "22/22 [==============================] - 5s 242ms/step - loss: 0.3221 - accuracy: 0.8899 - val_loss: 1.4480 - val_accuracy: 0.6901\n",
            "Epoch 118/200\n",
            "22/22 [==============================] - 5s 242ms/step - loss: 0.5199 - accuracy: 0.8179 - val_loss: 1.2382 - val_accuracy: 0.7076\n",
            "Epoch 119/200\n",
            "22/22 [==============================] - 5s 244ms/step - loss: 0.3002 - accuracy: 0.9016 - val_loss: 1.1821 - val_accuracy: 0.6784\n",
            "Epoch 120/200\n",
            "22/22 [==============================] - 5s 245ms/step - loss: 0.2188 - accuracy: 0.9251 - val_loss: 1.2593 - val_accuracy: 0.7018\n",
            "Epoch 121/200\n",
            "22/22 [==============================] - 5s 242ms/step - loss: 0.1622 - accuracy: 0.9442 - val_loss: 1.3136 - val_accuracy: 0.7310\n",
            "Epoch 122/200\n",
            "22/22 [==============================] - 5s 242ms/step - loss: 0.1499 - accuracy: 0.9486 - val_loss: 1.4554 - val_accuracy: 0.7076\n",
            "Epoch 123/200\n",
            "22/22 [==============================] - 5s 241ms/step - loss: 0.1210 - accuracy: 0.9559 - val_loss: 1.4415 - val_accuracy: 0.7076\n",
            "Epoch 124/200\n",
            "22/22 [==============================] - 5s 243ms/step - loss: 0.1164 - accuracy: 0.9559 - val_loss: 1.5875 - val_accuracy: 0.6959\n",
            "Epoch 125/200\n",
            "22/22 [==============================] - 5s 242ms/step - loss: 0.1765 - accuracy: 0.9339 - val_loss: 1.6607 - val_accuracy: 0.7018\n",
            "Epoch 126/200\n",
            "22/22 [==============================] - 5s 245ms/step - loss: 0.3660 - accuracy: 0.8884 - val_loss: 1.5850 - val_accuracy: 0.6842\n",
            "Epoch 127/200\n",
            "22/22 [==============================] - 5s 243ms/step - loss: 0.4143 - accuracy: 0.8620 - val_loss: 1.3034 - val_accuracy: 0.6608\n",
            "Epoch 128/200\n",
            "22/22 [==============================] - 5s 245ms/step - loss: 0.2946 - accuracy: 0.8913 - val_loss: 1.2816 - val_accuracy: 0.7076\n",
            "Epoch 129/200\n",
            "22/22 [==============================] - 5s 245ms/step - loss: 0.2746 - accuracy: 0.8972 - val_loss: 1.1134 - val_accuracy: 0.7251\n",
            "Epoch 130/200\n",
            "22/22 [==============================] - 5s 245ms/step - loss: 0.2339 - accuracy: 0.9280 - val_loss: 1.2061 - val_accuracy: 0.7018\n",
            "Epoch 131/200\n",
            "22/22 [==============================] - 5s 250ms/step - loss: 0.2201 - accuracy: 0.9266 - val_loss: 1.3452 - val_accuracy: 0.6842\n",
            "Epoch 132/200\n",
            "22/22 [==============================] - 5s 245ms/step - loss: 0.2130 - accuracy: 0.9295 - val_loss: 1.3074 - val_accuracy: 0.7193\n",
            "Epoch 133/200\n",
            "22/22 [==============================] - 5s 245ms/step - loss: 0.1588 - accuracy: 0.9442 - val_loss: 1.5610 - val_accuracy: 0.6959\n",
            "Epoch 134/200\n",
            "22/22 [==============================] - 5s 242ms/step - loss: 0.1416 - accuracy: 0.9486 - val_loss: 1.6633 - val_accuracy: 0.7018\n",
            "Epoch 135/200\n",
            "22/22 [==============================] - 5s 247ms/step - loss: 0.1145 - accuracy: 0.9501 - val_loss: 1.6226 - val_accuracy: 0.6959\n",
            "Epoch 136/200\n",
            "22/22 [==============================] - 5s 246ms/step - loss: 0.1476 - accuracy: 0.9545 - val_loss: 1.5864 - val_accuracy: 0.7018\n",
            "Epoch 137/200\n",
            "22/22 [==============================] - 5s 246ms/step - loss: 0.2081 - accuracy: 0.9295 - val_loss: 1.6040 - val_accuracy: 0.6725\n",
            "Epoch 138/200\n",
            "22/22 [==============================] - 5s 242ms/step - loss: 0.6723 - accuracy: 0.8194 - val_loss: 1.2455 - val_accuracy: 0.6608\n",
            "Epoch 139/200\n",
            "22/22 [==============================] - 5s 246ms/step - loss: 0.3434 - accuracy: 0.8752 - val_loss: 1.1342 - val_accuracy: 0.7135\n",
            "Epoch 140/200\n",
            "22/22 [==============================] - 5s 245ms/step - loss: 0.2961 - accuracy: 0.9148 - val_loss: 1.3178 - val_accuracy: 0.6784\n",
            "Epoch 141/200\n",
            "22/22 [==============================] - 5s 245ms/step - loss: 0.2320 - accuracy: 0.9119 - val_loss: 1.2622 - val_accuracy: 0.7193\n",
            "Epoch 142/200\n",
            "22/22 [==============================] - 5s 246ms/step - loss: 0.1609 - accuracy: 0.9515 - val_loss: 1.5608 - val_accuracy: 0.6784\n",
            "Epoch 143/200\n",
            "22/22 [==============================] - 5s 245ms/step - loss: 0.1504 - accuracy: 0.9574 - val_loss: 1.4487 - val_accuracy: 0.6901\n",
            "Epoch 144/200\n",
            "22/22 [==============================] - 5s 245ms/step - loss: 0.1111 - accuracy: 0.9618 - val_loss: 1.5737 - val_accuracy: 0.6842\n",
            "Epoch 145/200\n",
            "22/22 [==============================] - 5s 245ms/step - loss: 0.0980 - accuracy: 0.9662 - val_loss: 1.5278 - val_accuracy: 0.7193\n",
            "Epoch 146/200\n",
            "22/22 [==============================] - 5s 246ms/step - loss: 0.0965 - accuracy: 0.9662 - val_loss: 1.6064 - val_accuracy: 0.7135\n",
            "Epoch 147/200\n",
            "22/22 [==============================] - 5s 246ms/step - loss: 0.0940 - accuracy: 0.9662 - val_loss: 1.7202 - val_accuracy: 0.7076\n",
            "Epoch 148/200\n",
            "22/22 [==============================] - 5s 245ms/step - loss: 0.0926 - accuracy: 0.9662 - val_loss: 1.7552 - val_accuracy: 0.7251\n",
            "Epoch 149/200\n",
            "22/22 [==============================] - 5s 246ms/step - loss: 0.0914 - accuracy: 0.9662 - val_loss: 1.8684 - val_accuracy: 0.7193\n",
            "Epoch 150/200\n",
            "22/22 [==============================] - 5s 246ms/step - loss: 0.0909 - accuracy: 0.9662 - val_loss: 1.9090 - val_accuracy: 0.7135\n",
            "Epoch 151/200\n",
            "22/22 [==============================] - 5s 245ms/step - loss: 0.1456 - accuracy: 0.9457 - val_loss: 1.9051 - val_accuracy: 0.6725\n",
            "Epoch 152/200\n",
            "22/22 [==============================] - 5s 248ms/step - loss: 0.2148 - accuracy: 0.9310 - val_loss: 1.8372 - val_accuracy: 0.6550\n",
            "Epoch 153/200\n",
            "22/22 [==============================] - 5s 246ms/step - loss: 0.2392 - accuracy: 0.9178 - val_loss: 1.4684 - val_accuracy: 0.6550\n",
            "Epoch 154/200\n",
            "22/22 [==============================] - 6s 250ms/step - loss: 0.2409 - accuracy: 0.9222 - val_loss: 1.4215 - val_accuracy: 0.7135\n",
            "Epoch 155/200\n",
            "22/22 [==============================] - 5s 250ms/step - loss: 0.1875 - accuracy: 0.9325 - val_loss: 1.3489 - val_accuracy: 0.6901\n",
            "Epoch 156/200\n",
            "22/22 [==============================] - 5s 247ms/step - loss: 0.1458 - accuracy: 0.9471 - val_loss: 1.3074 - val_accuracy: 0.7193\n",
            "Epoch 157/200\n",
            "22/22 [==============================] - 5s 245ms/step - loss: 0.1467 - accuracy: 0.9442 - val_loss: 1.6423 - val_accuracy: 0.6901\n",
            "Epoch 158/200\n",
            "22/22 [==============================] - 5s 246ms/step - loss: 0.1856 - accuracy: 0.9325 - val_loss: 1.3707 - val_accuracy: 0.7193\n",
            "Epoch 159/200\n",
            "22/22 [==============================] - 5s 245ms/step - loss: 0.1469 - accuracy: 0.9457 - val_loss: 1.3478 - val_accuracy: 0.7310\n",
            "Epoch 160/200\n",
            "22/22 [==============================] - 5s 245ms/step - loss: 0.1565 - accuracy: 0.9442 - val_loss: 1.5730 - val_accuracy: 0.7251\n",
            "Epoch 161/200\n",
            "22/22 [==============================] - 5s 248ms/step - loss: 0.1825 - accuracy: 0.9354 - val_loss: 1.7022 - val_accuracy: 0.6959\n",
            "Epoch 162/200\n",
            "22/22 [==============================] - 5s 246ms/step - loss: 0.2650 - accuracy: 0.9163 - val_loss: 1.5519 - val_accuracy: 0.6550\n",
            "Epoch 163/200\n",
            "22/22 [==============================] - 5s 247ms/step - loss: 0.2465 - accuracy: 0.9251 - val_loss: 1.7815 - val_accuracy: 0.6257\n",
            "Epoch 164/200\n",
            "22/22 [==============================] - 5s 245ms/step - loss: 0.2157 - accuracy: 0.9280 - val_loss: 1.2537 - val_accuracy: 0.7193\n",
            "Epoch 165/200\n",
            "22/22 [==============================] - 5s 245ms/step - loss: 0.1306 - accuracy: 0.9604 - val_loss: 1.3119 - val_accuracy: 0.7251\n",
            "Epoch 166/200\n",
            "22/22 [==============================] - 5s 246ms/step - loss: 0.1333 - accuracy: 0.9515 - val_loss: 1.6612 - val_accuracy: 0.6901\n",
            "Epoch 167/200\n",
            "22/22 [==============================] - 5s 245ms/step - loss: 0.1326 - accuracy: 0.9589 - val_loss: 1.6793 - val_accuracy: 0.7076\n",
            "Epoch 168/200\n",
            "22/22 [==============================] - 5s 245ms/step - loss: 0.1156 - accuracy: 0.9559 - val_loss: 1.7265 - val_accuracy: 0.6901\n",
            "Epoch 169/200\n",
            "22/22 [==============================] - 5s 245ms/step - loss: 0.1773 - accuracy: 0.9310 - val_loss: 2.1883 - val_accuracy: 0.6023\n",
            "Epoch 170/200\n",
            "22/22 [==============================] - 5s 245ms/step - loss: 0.4449 - accuracy: 0.8561 - val_loss: 1.5440 - val_accuracy: 0.6901\n",
            "Epoch 171/200\n",
            "22/22 [==============================] - 5s 246ms/step - loss: 0.4133 - accuracy: 0.8693 - val_loss: 1.2446 - val_accuracy: 0.7076\n",
            "Epoch 172/200\n",
            "22/22 [==============================] - 5s 246ms/step - loss: 0.2013 - accuracy: 0.9413 - val_loss: 1.3630 - val_accuracy: 0.7251\n",
            "Epoch 173/200\n",
            "22/22 [==============================] - 5s 245ms/step - loss: 0.1282 - accuracy: 0.9574 - val_loss: 1.4912 - val_accuracy: 0.7251\n",
            "Epoch 174/200\n",
            "22/22 [==============================] - 5s 247ms/step - loss: 0.1098 - accuracy: 0.9604 - val_loss: 1.7567 - val_accuracy: 0.7135\n",
            "Epoch 175/200\n",
            "22/22 [==============================] - 5s 250ms/step - loss: 0.0986 - accuracy: 0.9662 - val_loss: 1.8280 - val_accuracy: 0.7076\n",
            "Epoch 176/200\n",
            "22/22 [==============================] - 5s 249ms/step - loss: 0.1120 - accuracy: 0.9559 - val_loss: 1.7928 - val_accuracy: 0.6901\n",
            "Epoch 177/200\n",
            "22/22 [==============================] - 5s 246ms/step - loss: 0.2383 - accuracy: 0.9207 - val_loss: 1.5913 - val_accuracy: 0.6959\n",
            "Epoch 178/200\n",
            "22/22 [==============================] - 5s 247ms/step - loss: 0.2221 - accuracy: 0.9280 - val_loss: 1.4229 - val_accuracy: 0.7076\n",
            "Epoch 179/200\n",
            "22/22 [==============================] - 5s 247ms/step - loss: 0.1913 - accuracy: 0.9339 - val_loss: 1.4432 - val_accuracy: 0.7251\n",
            "Epoch 180/200\n",
            "22/22 [==============================] - 5s 247ms/step - loss: 0.1415 - accuracy: 0.9545 - val_loss: 1.4224 - val_accuracy: 0.7135\n",
            "Epoch 181/200\n",
            "22/22 [==============================] - 5s 248ms/step - loss: 0.1201 - accuracy: 0.9604 - val_loss: 1.4544 - val_accuracy: 0.7251\n",
            "Epoch 182/200\n",
            "22/22 [==============================] - 5s 245ms/step - loss: 0.1069 - accuracy: 0.9618 - val_loss: 1.4751 - val_accuracy: 0.7310\n",
            "Epoch 183/200\n",
            "22/22 [==============================] - 5s 248ms/step - loss: 0.1103 - accuracy: 0.9618 - val_loss: 1.7162 - val_accuracy: 0.6959\n",
            "Epoch 184/200\n",
            "22/22 [==============================] - 5s 247ms/step - loss: 0.1095 - accuracy: 0.9604 - val_loss: 1.5747 - val_accuracy: 0.7310\n",
            "Epoch 185/200\n",
            "22/22 [==============================] - 5s 246ms/step - loss: 0.1064 - accuracy: 0.9604 - val_loss: 1.5475 - val_accuracy: 0.7076\n",
            "Epoch 186/200\n",
            "22/22 [==============================] - 5s 246ms/step - loss: 0.0930 - accuracy: 0.9662 - val_loss: 1.6160 - val_accuracy: 0.7135\n",
            "Epoch 187/200\n",
            "22/22 [==============================] - 5s 248ms/step - loss: 0.0922 - accuracy: 0.9662 - val_loss: 1.7005 - val_accuracy: 0.7018\n",
            "Epoch 188/200\n",
            "22/22 [==============================] - 5s 247ms/step - loss: 0.0920 - accuracy: 0.9662 - val_loss: 1.7495 - val_accuracy: 0.7251\n",
            "Epoch 189/200\n",
            "22/22 [==============================] - 5s 244ms/step - loss: 0.0916 - accuracy: 0.9662 - val_loss: 1.9087 - val_accuracy: 0.7076\n",
            "Epoch 190/200\n",
            "22/22 [==============================] - 5s 247ms/step - loss: 0.0973 - accuracy: 0.9633 - val_loss: 1.9211 - val_accuracy: 0.7018\n",
            "Epoch 191/200\n",
            "22/22 [==============================] - 5s 246ms/step - loss: 0.1237 - accuracy: 0.9574 - val_loss: 1.9411 - val_accuracy: 0.7135\n",
            "Epoch 192/200\n",
            "22/22 [==============================] - 5s 248ms/step - loss: 0.1739 - accuracy: 0.9427 - val_loss: 1.8905 - val_accuracy: 0.6725\n",
            "Epoch 193/200\n",
            "22/22 [==============================] - 5s 246ms/step - loss: 0.4901 - accuracy: 0.8708 - val_loss: 1.4904 - val_accuracy: 0.6023\n",
            "Epoch 194/200\n",
            "22/22 [==============================] - 5s 245ms/step - loss: 0.3152 - accuracy: 0.8972 - val_loss: 1.4274 - val_accuracy: 0.6784\n",
            "Epoch 195/200\n",
            "22/22 [==============================] - 5s 246ms/step - loss: 0.2624 - accuracy: 0.9119 - val_loss: 1.4492 - val_accuracy: 0.6901\n",
            "Epoch 196/200\n",
            "22/22 [==============================] - 5s 246ms/step - loss: 0.2761 - accuracy: 0.9222 - val_loss: 1.5965 - val_accuracy: 0.6667\n",
            "Epoch 197/200\n",
            "22/22 [==============================] - 5s 247ms/step - loss: 0.1554 - accuracy: 0.9413 - val_loss: 1.6938 - val_accuracy: 0.7018\n",
            "Epoch 198/200\n",
            "22/22 [==============================] - 5s 249ms/step - loss: 0.1201 - accuracy: 0.9574 - val_loss: 1.7149 - val_accuracy: 0.6901\n",
            "Epoch 199/200\n",
            "22/22 [==============================] - 5s 249ms/step - loss: 0.1225 - accuracy: 0.9604 - val_loss: 1.6551 - val_accuracy: 0.6959\n",
            "Epoch 200/200\n",
            "22/22 [==============================] - 5s 247ms/step - loss: 0.0977 - accuracy: 0.9648 - val_loss: 1.7779 - val_accuracy: 0.7076\n"
          ]
        }
      ],
      "source": [
        "# Create an Instance of Early Stopping Callback\n",
        "early_stopping_callback = EarlyStopping(monitor = 'val_loss', patience = 20, mode = 'min', restore_best_weights = True)\n",
        "\n",
        "# Compile the model and specify loss function, optimizer and metrics values to the model\n",
        "#opt = tf.keras.optimizers.Adam(learning_rate=0.0001)\n",
        "model.compile(loss = 'categorical_crossentropy', optimizer ='Adam', metrics = [\"accuracy\"])\n",
        "\n",
        "# Start training the model.\n",
        "lstm_model_training_history = model.fit(x = features_train, y = labels_train, epochs = 200,  batch_size = 4 ,\n",
        "                                                     shuffle = True, validation_split = 0.2) \n",
        "                                                     #callbacks = [early_stopping_callback])"
      ]
    },
    {
      "cell_type": "code",
      "execution_count": null,
      "metadata": {
        "colab": {
          "base_uri": "https://localhost:8080/"
        },
        "id": "s5li1nazRw3S",
        "outputId": "c140a95b-b95e-4f7a-d9d8-57d535fd7b60"
      },
      "outputs": [
        {
          "output_type": "stream",
          "name": "stdout",
          "text": [
            "9/9 [==============================] - 1s 70ms/step - loss: 1.5001 - accuracy: 0.7007\n"
          ]
        }
      ],
      "source": [
        "# Evaluate the trained model.\n",
        "model_evaluation_history = model.evaluate(features_test, labels_test)"
      ]
    },
    {
      "cell_type": "code",
      "execution_count": null,
      "metadata": {
        "id": "qCDo2nk4TpQZ"
      },
      "outputs": [],
      "source": [
        "def plot_metric(model_training_history, metric_name_1, metric_name_2, plot_name):\n",
        "    '''\n",
        "    This function will plot the metrics passed to it in a graph.\n",
        "    Args:\n",
        "        model_training_history: A history object containing a record of training and validation \n",
        "                                loss values and metrics values at successive epochs\n",
        "        metric_name_1:          The name of the first metric that needs to be plotted in the graph.\n",
        "        metric_name_2:          The name of the second metric that needs to be plotted in the graph.\n",
        "        plot_name:              The title of the graph.\n",
        "    '''\n",
        "    \n",
        "    # Get metric values using metric names as identifiers.\n",
        "    metric_value_1 = model_training_history.history[metric_name_1]\n",
        "    metric_value_2 = model_training_history.history[metric_name_2]\n",
        "    \n",
        "    # Construct a range object which will be used as x-axis (horizontal plane) of the graph.\n",
        "    epochs = range(len(metric_value_1))\n",
        "\n",
        "    # Plot the Graph.\n",
        "    plt.plot(epochs, metric_value_1, 'blue', label = metric_name_1)\n",
        "    plt.plot(epochs, metric_value_2, 'red', label = metric_name_2)\n",
        "\n",
        "    # Add title to the plot.\n",
        "    plt.title(str(plot_name))\n",
        "\n",
        "    # Add legend to the plot.\n",
        "    plt.legend()"
      ]
    },
    {
      "cell_type": "code",
      "execution_count": null,
      "metadata": {
        "colab": {
          "base_uri": "https://localhost:8080/",
          "height": 281
        },
        "id": "bb_10xPPUTKp",
        "outputId": "0813ca7a-81e5-47b3-fda1-44a64ba86077"
      },
      "outputs": [
        {
          "output_type": "display_data",
          "data": {
            "image/png": "[encoded data removed]",
            "text/plain": [
              "<Figure size 432x288 with 1 Axes>"
            ]
          },
          "metadata": {
            "needs_background": "light"
          }
        }
      ],
      "source": [
        "# Visualize the training and validation loss metrices.\n",
        "plot_metric(lstm_model_training_history, 'loss', 'val_loss', 'Total Loss vs Total Validation Loss')"
      ]
    },
    {
      "cell_type": "code",
      "execution_count": null,
      "metadata": {
        "colab": {
          "base_uri": "https://localhost:8080/",
          "height": 281
        },
        "id": "sFwCSGq4U8Jh",
        "outputId": "e0eb8afe-877a-43f2-ad47-d3d92a696eea"
      },
      "outputs": [
        {
          "output_type": "display_data",
          "data": {
            "image/png": "[encoded data removed]",
            "text/plain": [
              "<Figure size 432x288 with 1 Axes>"
            ]
          },
          "metadata": {
            "needs_background": "light"
          }
        }
      ],
      "source": [
        "# Visualize the training and validation accuracy metrices.\n",
        "plot_metric(lstm_model_training_history, 'accuracy', 'val_accuracy', 'Total Accuracy vs Total Validation Accuracy') "
      ]
    },
    {
      "cell_type": "code",
      "execution_count": null,
      "metadata": {
        "id": "LyGcPTq-yuKo"
      },
      "outputs": [],
      "source": [
        "model.save('saved_model/my_model')"
      ]
    }
  ],
  "metadata": {
    "colab": {
      "collapsed_sections": [],
      "name": "Copie_de_Untitled8.ipynb",
      "provenance": []
    },
    "kernelspec": {
      "display_name": "Python 3",
      "name": "python3"
    },
    "language_info": {
      "name": "python"
    }
  },
  "nbformat": 4,
  "nbformat_minor": 0
}